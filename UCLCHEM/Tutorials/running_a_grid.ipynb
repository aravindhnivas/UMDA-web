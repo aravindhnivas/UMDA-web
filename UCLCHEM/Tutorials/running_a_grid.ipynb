{
 "cells": [
  {
   "cell_type": "markdown",
   "metadata": {},
   "source": [
    "# Running a Grid\n",
    "\n",
    "A common task is to run UCLCHEM over a grid of parameter combinations. This notebook sets up a simple approach to doing so for regular grids."
   ]
  },
  {
   "cell_type": "code",
   "execution_count": 8,
   "metadata": {},
   "outputs": [],
   "source": [
    "import uclchem\n",
    "import numpy as np\n",
    "import pandas as pd\n",
    "from multiprocessing import Pool\n",
    "import os"
   ]
  },
  {
   "cell_type": "markdown",
   "metadata": {},
   "source": [
    "## A Simple Grid\n",
    "### Define Parameter Space\n",
    "First, we define our parameter space. We do this by using numpy and pandas to produce a table of all possible combinations of some parameters of interest."
   ]
  },
  {
   "cell_type": "code",
   "execution_count": 3,
   "metadata": {},
   "outputs": [
    {
     "name": "stdout",
     "output_type": "stream",
     "text": [
      "27 models to run\n"
     ]
    }
   ],
   "source": [
    "# This part can be substituted with any choice of grid\n",
    "#here we just vary the density, temperature and zeta \n",
    "temperatures = np.linspace(10, 50, 3)\n",
    "densities = np.logspace(4,6,3)\n",
    "zetas = np.logspace(1, 3, 3)\n",
    "\n",
    "#meshgrid will give all combinations, then we shape into columns and put into a table\n",
    "parameterSpace = np.asarray(np.meshgrid(temperatures,densities,zetas)).reshape(3, -1)\n",
    "model_table=pd.DataFrame(parameterSpace.T, columns=['temperature','density','zeta'])\n",
    "\n",
    "#keep track of where each model output will be saved and make sure that folder exists\n",
    "model_table[\"outputFile\"]=model_table.apply(lambda row: f\"../grid_folder/{row.temperature}_{row.density}_{row.zeta}.csv\", axis=1)\n",
    "print(f\"{model_table.shape[0]} models to run\")\n",
    "if not os.path.exists(\"../grid_folder\"):\n",
    "    os.makedirs(\"../grid_folder\")"
   ]
  },
  {
   "cell_type": "markdown",
   "metadata": {},
   "source": [
    "### Set up the model\n",
    "Next, we need a function that will run our model. We write a quick function that takes a row from our dataframe and uses it to populate a parameter dictionary for UCLCHEM and then run a cloud model. We can then map our dataframe to that function."
   ]
  },
  {
   "cell_type": "code",
   "execution_count": 1,
   "metadata": {},
   "outputs": [],
   "source": [
    "def run_model(row):\n",
    "    #basic set of parameters we'll use for this grid. \n",
    "    ParameterDictionary = {\"endatfinaldensity\":False,\n",
    "                           \"freefall\": False,\n",
    "                           \"initialDens\": row.density,\n",
    "                           \"initialTemp\": row.temperature,\n",
    "                           \"zeta\": row.zeta,\n",
    "                           \"outputFile\": row.outputFile,\n",
    "                           \"finalTime\":1.0e6,\n",
    "                           \"baseAv\":10}\n",
    "    result = uclchem.model.cloud(param_dict=ParameterDictionary)\n",
    "    return result[0]#just the integer error code"
   ]
  },
  {
   "cell_type": "markdown",
   "metadata": {},
   "source": [
    "### Run Grid \n",
    "\n",
    "#### The Simple Way\n",
    "We can use pandas apply to simply pass each row to our helper function in turn. This will take some time since we're running the models one by one. I'll use the `head` function just to run five rows as an example here."
   ]
  },
  {
   "cell_type": "code",
   "execution_count": null,
   "metadata": {},
   "outputs": [],
   "source": [
    "result=model_table.head().apply(run_model, axis=1)"
   ]
  },
  {
   "cell_type": "markdown",
   "metadata": {},
   "source": [
    "#### The Fast Way\n",
    "Alternatively, we can use multiprocessing to run the models in parallel. That will allow us to run many models simulataneously and make use of all the cores available on our machine."
   ]
  },
  {
   "cell_type": "code",
   "execution_count": 4,
   "metadata": {},
   "outputs": [],
   "source": [
    "def pool_func(x):\n",
    "    i,row=x\n",
    "    return run_model(row)\n",
    "\n",
    "with Pool(processes=6) as pool:\n",
    "    results = pool.map(pool_func, model_table.iterrows())"
   ]
  },
  {
   "cell_type": "markdown",
   "metadata": {},
   "source": [
    "## Checking Your Grid\n",
    "After running, we should do two things. First, let's add `results` to our dataframe as a new column. Positive results mean a successful UCLCHEM run and negative ones are unsuccessful. Then we can run each model through `check_element_conservation` to check the integration was successful. We'll use both these things to flag models that failed in some way."
   ]
  },
  {
   "cell_type": "code",
   "execution_count": 5,
   "metadata": {},
   "outputs": [],
   "source": [
    "def element_check(output_file):\n",
    "    df=uclchem.analysis.read_output_file(output_file)\n",
    "    #get conservation values\n",
    "    conserves=uclchem.analysis.check_element_conservation(df)\n",
    "    #check if any error is greater than 1%\n",
    "    return all([float(x[:-1])<1 for x in conserves.values()])"
   ]
  },
  {
   "cell_type": "code",
   "execution_count": 6,
   "metadata": {},
   "outputs": [],
   "source": [
    "model_table[\"run_result\"]=results\n",
    "model_table[\"elements_conserved\"]=model_table[\"outputFile\"].map(element_check)\n",
    "#check both conditions are met\n",
    "model_table[\"Successful\"]=(model_table.run_result>=0) & (model_table.elements_conserved)"
   ]
  },
  {
   "cell_type": "code",
   "execution_count": 7,
   "metadata": {},
   "outputs": [
    {
     "data": {
      "text/html": [
       "<div>\n",
       "<style scoped>\n",
       "    .dataframe tbody tr th:only-of-type {\n",
       "        vertical-align: middle;\n",
       "    }\n",
       "\n",
       "    .dataframe tbody tr th {\n",
       "        vertical-align: top;\n",
       "    }\n",
       "\n",
       "    .dataframe thead th {\n",
       "        text-align: right;\n",
       "    }\n",
       "</style>\n",
       "<table border=\"1\" class=\"dataframe\">\n",
       "  <thead>\n",
       "    <tr style=\"text-align: right;\">\n",
       "      <th></th>\n",
       "      <th>temperature</th>\n",
       "      <th>density</th>\n",
       "      <th>zeta</th>\n",
       "      <th>outputFile</th>\n",
       "      <th>run_result</th>\n",
       "      <th>elements_conserved</th>\n",
       "      <th>Successful</th>\n",
       "    </tr>\n",
       "  </thead>\n",
       "  <tbody>\n",
       "    <tr>\n",
       "      <th>0</th>\n",
       "      <td>10.0</td>\n",
       "      <td>10000.0</td>\n",
       "      <td>10.0</td>\n",
       "      <td>../grid_folder/10.0_10000.0_10.0.csv</td>\n",
       "      <td>1</td>\n",
       "      <td>True</td>\n",
       "      <td>True</td>\n",
       "    </tr>\n",
       "    <tr>\n",
       "      <th>1</th>\n",
       "      <td>10.0</td>\n",
       "      <td>10000.0</td>\n",
       "      <td>100.0</td>\n",
       "      <td>../grid_folder/10.0_10000.0_100.0.csv</td>\n",
       "      <td>1</td>\n",
       "      <td>True</td>\n",
       "      <td>True</td>\n",
       "    </tr>\n",
       "    <tr>\n",
       "      <th>2</th>\n",
       "      <td>10.0</td>\n",
       "      <td>10000.0</td>\n",
       "      <td>1000.0</td>\n",
       "      <td>../grid_folder/10.0_10000.0_1000.0.csv</td>\n",
       "      <td>1</td>\n",
       "      <td>True</td>\n",
       "      <td>True</td>\n",
       "    </tr>\n",
       "    <tr>\n",
       "      <th>3</th>\n",
       "      <td>30.0</td>\n",
       "      <td>10000.0</td>\n",
       "      <td>10.0</td>\n",
       "      <td>../grid_folder/30.0_10000.0_10.0.csv</td>\n",
       "      <td>1</td>\n",
       "      <td>True</td>\n",
       "      <td>True</td>\n",
       "    </tr>\n",
       "    <tr>\n",
       "      <th>4</th>\n",
       "      <td>30.0</td>\n",
       "      <td>10000.0</td>\n",
       "      <td>100.0</td>\n",
       "      <td>../grid_folder/30.0_10000.0_100.0.csv</td>\n",
       "      <td>1</td>\n",
       "      <td>True</td>\n",
       "      <td>True</td>\n",
       "    </tr>\n",
       "  </tbody>\n",
       "</table>\n",
       "</div>"
      ],
      "text/plain": [
       "   temperature  density    zeta                              outputFile  \\\n",
       "0         10.0  10000.0    10.0    ../grid_folder/10.0_10000.0_10.0.csv   \n",
       "1         10.0  10000.0   100.0   ../grid_folder/10.0_10000.0_100.0.csv   \n",
       "2         10.0  10000.0  1000.0  ../grid_folder/10.0_10000.0_1000.0.csv   \n",
       "3         30.0  10000.0    10.0    ../grid_folder/30.0_10000.0_10.0.csv   \n",
       "4         30.0  10000.0   100.0   ../grid_folder/30.0_10000.0_100.0.csv   \n",
       "\n",
       "   run_result  elements_conserved  Successful  \n",
       "0           1                True        True  \n",
       "1           1                True        True  \n",
       "2           1                True        True  \n",
       "3           1                True        True  \n",
       "4           1                True        True  "
      ]
     },
     "execution_count": 7,
     "metadata": {},
     "output_type": "execute_result"
    }
   ],
   "source": [
    "model_table.head()"
   ]
  },
  {
   "cell_type": "markdown",
   "metadata": {},
   "source": [
    "## Complex Grid\n",
    "\n",
    "The above was straightforward enough but what about a modelling a grid of shocks? Not only do we want to loop over relevant parameters, we also need to run a few preliminary models to give ourselves starting abundances. We'll start by defining two helper functions, one to run our preliminary cloud and one to run the shock.\n",
    "\n",
    "Let's further imagine that we want to obtain the abundances of several species at the end of the model. We can use the `out_species` parameter to specify which species we want to track and return them to our dataframe."
   ]
  },
  {
   "cell_type": "code",
   "execution_count": 12,
   "metadata": {},
   "outputs": [],
   "source": [
    "out_species=[\"CO\",\"H2O\",\"CH3OH\"]\n",
    "\n",
    "def run_prelim(density):\n",
    "    #basic set of parameters we'll use for this grid. \n",
    "    ParameterDictionary = {\"endatfinaldensity\":True,\n",
    "                           \"freefall\": True,\n",
    "                           \"initialDens\":1e2,\n",
    "                           \"finalDens\": density,\n",
    "                           \"initialTemp\": 10.0,\n",
    "                           \"abundSaveFile\": f\"../grid_folder/starts/{density:.0f}.csv\",\n",
    "                           \"baseAv\":1}\n",
    "    result = uclchem.model.cloud(param_dict=ParameterDictionary)\n",
    "    return result\n",
    "\n",
    "def run_model(row):\n",
    "    i,row=row # we know we're receiving the iterrows() tuple\n",
    "    #basic set of parameters we'll use for this grid. \n",
    "    ParameterDictionary = {\"endatfinaldensity\":False,\n",
    "                           \"freefall\": False,\n",
    "                           \"initialDens\": row.density,\n",
    "                           \"initialTemp\": 10.0,\n",
    "                           \"outputFile\": row.outputFile,\n",
    "                            \"abundLoadFile\": f\"../grid_folder/starts/{row.density:.0f}.csv\",\n",
    "                           \"finalTime\":1.0e5,\n",
    "                           \"abstol_factor\":1e-18,\n",
    "                           \"reltol\":1e-12,\n",
    "                           \"baseAv\":1}\n",
    "    result = uclchem.model.cshock(row.shock_velocity,param_dict=ParameterDictionary,out_species=out_species)\n",
    "    #First check UCLCHEM's result flag to seeif it's positive, if it is return the abundances\n",
    "    if result[0]>0:\n",
    "        return result[:]\n",
    "    #if not, return NaNs because model failed\n",
    "    else:\n",
    "        return([np.nan]*len(out_species))"
   ]
  },
  {
   "cell_type": "markdown",
   "metadata": {},
   "source": [
    "Then we define our parameter space again. We'll create two folders, one to store a set of initial abundances for each starting density in our model and another to store our shock outputs."
   ]
  },
  {
   "cell_type": "code",
   "execution_count": 10,
   "metadata": {},
   "outputs": [
    {
     "name": "stdout",
     "output_type": "stream",
     "text": [
      "9 models to run\n"
     ]
    }
   ],
   "source": [
    "# This part can be substituted with any choice of grid\n",
    "# here we just combine various initial and final densities into an easily iterable array\n",
    "shock_velocities = np.linspace(10, 50, 3)\n",
    "densities = np.logspace(4,6,3)\n",
    "\n",
    "parameterSpace = np.asarray(np.meshgrid(shock_velocities,densities)).reshape(2, -1)\n",
    "model_table=pd.DataFrame(parameterSpace.T, columns=['shock_velocity','density'])\n",
    "model_table[\"outputFile\"]=model_table.apply(lambda row: f\"../grid_folder/shocks/{row.shock_velocity}_{row.density}.csv\", axis=1)\n",
    "print(f\"{model_table.shape[0]} models to run\")\n",
    "\n",
    "for folder in [\"starts\",\"shocks\"]:\n",
    "    if not os.path.exists(f\"../grid_folder/{folder}\"):\n",
    "        os.makedirs(f\"../grid_folder/{folder}\")"
   ]
  },
  {
   "cell_type": "markdown",
   "metadata": {},
   "source": [
    "We can then run our preliminary models followed by our science models. The science models will return the abundances at the final time step of each run so we can unpack those directly to our dataframe."
   ]
  },
  {
   "cell_type": "code",
   "execution_count": 11,
   "metadata": {},
   "outputs": [],
   "source": [
    "with Pool(processes=3) as pool:\n",
    "    results = pool.map(run_prelim, densities)"
   ]
  },
  {
   "cell_type": "code",
   "execution_count": null,
   "metadata": {},
   "outputs": [],
   "source": [
    "with Pool(processes=6) as pool:\n",
    "    results = pool.map(run_model, model_table.iterrows())\n",
    "model_table[[\"Result\",\"Dissipation Time\"]+out_species]=results"
   ]
  },
  {
   "cell_type": "code",
   "execution_count": 14,
   "metadata": {},
   "outputs": [
    {
     "data": {
      "text/html": [
       "<div>\n",
       "<style scoped>\n",
       "    .dataframe tbody tr th:only-of-type {\n",
       "        vertical-align: middle;\n",
       "    }\n",
       "\n",
       "    .dataframe tbody tr th {\n",
       "        vertical-align: top;\n",
       "    }\n",
       "\n",
       "    .dataframe thead th {\n",
       "        text-align: right;\n",
       "    }\n",
       "</style>\n",
       "<table border=\"1\" class=\"dataframe\">\n",
       "  <thead>\n",
       "    <tr style=\"text-align: right;\">\n",
       "      <th></th>\n",
       "      <th>shock_velocity</th>\n",
       "      <th>density</th>\n",
       "      <th>outputFile</th>\n",
       "      <th>Result</th>\n",
       "      <th>Dissipation Time</th>\n",
       "      <th>CO</th>\n",
       "      <th>H2O</th>\n",
       "      <th>CH3OH</th>\n",
       "    </tr>\n",
       "  </thead>\n",
       "  <tbody>\n",
       "    <tr>\n",
       "      <th>0</th>\n",
       "      <td>10.0</td>\n",
       "      <td>10000.0</td>\n",
       "      <td>../grid_folder/shocks/10.0_10000.0.csv</td>\n",
       "      <td>1.0</td>\n",
       "      <td>1171.898734</td>\n",
       "      <td>7.316441e-05</td>\n",
       "      <td>4.355495e-06</td>\n",
       "      <td>4.624479e-07</td>\n",
       "    </tr>\n",
       "    <tr>\n",
       "      <th>1</th>\n",
       "      <td>30.0</td>\n",
       "      <td>10000.0</td>\n",
       "      <td>../grid_folder/shocks/30.0_10000.0.csv</td>\n",
       "      <td>1.0</td>\n",
       "      <td>1171.898734</td>\n",
       "      <td>2.591790e-05</td>\n",
       "      <td>2.113885e-05</td>\n",
       "      <td>1.196330e-07</td>\n",
       "    </tr>\n",
       "    <tr>\n",
       "      <th>2</th>\n",
       "      <td>50.0</td>\n",
       "      <td>10000.0</td>\n",
       "      <td>../grid_folder/shocks/50.0_10000.0.csv</td>\n",
       "      <td>1.0</td>\n",
       "      <td>1171.898734</td>\n",
       "      <td>1.320822e-05</td>\n",
       "      <td>8.126066e-06</td>\n",
       "      <td>1.989081e-08</td>\n",
       "    </tr>\n",
       "    <tr>\n",
       "      <th>3</th>\n",
       "      <td>10.0</td>\n",
       "      <td>100000.0</td>\n",
       "      <td>../grid_folder/shocks/10.0_100000.0.csv</td>\n",
       "      <td>1.0</td>\n",
       "      <td>117.189873</td>\n",
       "      <td>1.082083e-07</td>\n",
       "      <td>1.158740e-09</td>\n",
       "      <td>3.697607e-10</td>\n",
       "    </tr>\n",
       "    <tr>\n",
       "      <th>4</th>\n",
       "      <td>30.0</td>\n",
       "      <td>100000.0</td>\n",
       "      <td>../grid_folder/shocks/30.0_100000.0.csv</td>\n",
       "      <td>1.0</td>\n",
       "      <td>117.189873</td>\n",
       "      <td>1.121259e-10</td>\n",
       "      <td>3.789106e-10</td>\n",
       "      <td>4.907284e-10</td>\n",
       "    </tr>\n",
       "    <tr>\n",
       "      <th>5</th>\n",
       "      <td>50.0</td>\n",
       "      <td>100000.0</td>\n",
       "      <td>../grid_folder/shocks/50.0_100000.0.csv</td>\n",
       "      <td>1.0</td>\n",
       "      <td>117.189873</td>\n",
       "      <td>2.454392e-10</td>\n",
       "      <td>3.443643e-10</td>\n",
       "      <td>6.454671e-10</td>\n",
       "    </tr>\n",
       "    <tr>\n",
       "      <th>6</th>\n",
       "      <td>10.0</td>\n",
       "      <td>1000000.0</td>\n",
       "      <td>../grid_folder/shocks/10.0_1000000.0.csv</td>\n",
       "      <td>1.0</td>\n",
       "      <td>11.718987</td>\n",
       "      <td>1.084005e-10</td>\n",
       "      <td>3.565914e-11</td>\n",
       "      <td>4.816630e-11</td>\n",
       "    </tr>\n",
       "    <tr>\n",
       "      <th>7</th>\n",
       "      <td>30.0</td>\n",
       "      <td>1000000.0</td>\n",
       "      <td>../grid_folder/shocks/30.0_1000000.0.csv</td>\n",
       "      <td>1.0</td>\n",
       "      <td>11.718987</td>\n",
       "      <td>1.897782e-10</td>\n",
       "      <td>6.498499e-11</td>\n",
       "      <td>7.847277e-12</td>\n",
       "    </tr>\n",
       "    <tr>\n",
       "      <th>8</th>\n",
       "      <td>50.0</td>\n",
       "      <td>1000000.0</td>\n",
       "      <td>../grid_folder/shocks/50.0_1000000.0.csv</td>\n",
       "      <td>1.0</td>\n",
       "      <td>11.718987</td>\n",
       "      <td>2.167651e-10</td>\n",
       "      <td>6.600196e-12</td>\n",
       "      <td>3.412340e-12</td>\n",
       "    </tr>\n",
       "  </tbody>\n",
       "</table>\n",
       "</div>"
      ],
      "text/plain": [
       "   shock_velocity    density                                outputFile  \\\n",
       "0            10.0    10000.0    ../grid_folder/shocks/10.0_10000.0.csv   \n",
       "1            30.0    10000.0    ../grid_folder/shocks/30.0_10000.0.csv   \n",
       "2            50.0    10000.0    ../grid_folder/shocks/50.0_10000.0.csv   \n",
       "3            10.0   100000.0   ../grid_folder/shocks/10.0_100000.0.csv   \n",
       "4            30.0   100000.0   ../grid_folder/shocks/30.0_100000.0.csv   \n",
       "5            50.0   100000.0   ../grid_folder/shocks/50.0_100000.0.csv   \n",
       "6            10.0  1000000.0  ../grid_folder/shocks/10.0_1000000.0.csv   \n",
       "7            30.0  1000000.0  ../grid_folder/shocks/30.0_1000000.0.csv   \n",
       "8            50.0  1000000.0  ../grid_folder/shocks/50.0_1000000.0.csv   \n",
       "\n",
       "   Result  Dissipation Time            CO           H2O         CH3OH  \n",
       "0     1.0       1171.898734  7.316441e-05  4.355495e-06  4.624479e-07  \n",
       "1     1.0       1171.898734  2.591790e-05  2.113885e-05  1.196330e-07  \n",
       "2     1.0       1171.898734  1.320822e-05  8.126066e-06  1.989081e-08  \n",
       "3     1.0        117.189873  1.082083e-07  1.158740e-09  3.697607e-10  \n",
       "4     1.0        117.189873  1.121259e-10  3.789106e-10  4.907284e-10  \n",
       "5     1.0        117.189873  2.454392e-10  3.443643e-10  6.454671e-10  \n",
       "6     1.0         11.718987  1.084005e-10  3.565914e-11  4.816630e-11  \n",
       "7     1.0         11.718987  1.897782e-10  6.498499e-11  7.847277e-12  \n",
       "8     1.0         11.718987  2.167651e-10  6.600196e-12  3.412340e-12  "
      ]
     },
     "execution_count": 14,
     "metadata": {},
     "output_type": "execute_result"
    }
   ],
   "source": [
    "model_table"
   ]
  },
  {
   "cell_type": "markdown",
   "metadata": {},
   "source": [
    "## Summary\n",
    "\n",
    "There are many ways to run grids of models and users will naturally develop their own methods. This notebook is just a simple example of how to run UCLCHEM for many parameter combinations whilst producing a useful output (the model_table) to keep track of all the combinations that were run. In a real script, we'd save the model file to csv at the end.\n",
    "\n",
    "For much larger grids, it's recommended that you find a way to make your script robust to failure. Over a huge range of parameters, it is quite likely UCLCHEM will hit integration trouble for at least a few parameter combinations. Very occasionally, UCLCHEM will get caught in a loop where it fails to integrate and cannot adjust its strategy to manage it. This isn't a problem for small grids as the model can be stopped and the tolerances adjusted. However, for very large grids, you may end up locking all threads as they each get stuck on a different model. The best solution we've found for this case is to add a check so that models in your dataframe are skipped if their file already exists, this allows you to stop and restart the grid script as needed.\n"
   ]
  }
 ],
 "metadata": {
  "interpreter": {
   "hash": "40d3a090f54c6569ab1632332b64b2c03c39dcf918b08424e98f38b5ae0af88f"
  },
  "kernelspec": {
   "display_name": "Python 3 (ipykernel)",
   "language": "python",
   "name": "python3"
  },
  "language_info": {
   "codemirror_mode": {
    "name": "ipython",
    "version": 3
   },
   "file_extension": ".py",
   "mimetype": "text/x-python",
   "name": "python",
   "nbconvert_exporter": "python",
   "pygments_lexer": "ipython3",
   "version": "3.8.11"
  }
 },
 "nbformat": 4,
 "nbformat_minor": 2
}
